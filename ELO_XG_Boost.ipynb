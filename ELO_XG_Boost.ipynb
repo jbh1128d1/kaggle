{
 "cells": [
  {
   "cell_type": "code",
   "execution_count": 1,
   "metadata": {},
   "outputs": [],
   "source": [
    "import numpy as np\n",
    "import pandas as pd\n",
    "import matplotlib.pyplot as plt\n",
    "import seaborn as sns\n",
    "import pymc3 as pm\n",
    "import theano as tt\n",
    "from sklearn.model_selection import train_test_split\n",
    "from sklearn import metrics"
   ]
  },
  {
   "cell_type": "code",
   "execution_count": 2,
   "metadata": {},
   "outputs": [],
   "source": [
    "train = pd.read_csv('/home/jordan/Data/ELo/elo-merchant-category-recommendation/train.csv')\n",
    "test = pd.read_csv('/home/jordan/Data/ELo/elo-merchant-category-recommendation/test.csv')\n",
    "merchants = pd.read_csv('/home/jordan/Data/ELo/elo-merchant-category-recommendation/merchants.csv')\n",
    "new_merchant_t = pd.read_csv('/home/jordan/Data/ELo/elo-merchant-category-recommendation/new_merchant_transactions.csv')\n",
    "his_trans = pd.read_csv('/home/jordan/Data/ELo/elo-merchant-category-recommendation/historical_transactions.csv')"
   ]
  },
  {
   "cell_type": "code",
   "execution_count": 3,
   "metadata": {},
   "outputs": [],
   "source": [
    "train['first_active_month'] = pd.to_datetime(train['first_active_month']).apply(lambda x: x.strftime('%Y-%m'))\n",
    "test['first_active_month'] = test['first_active_month'].fillna('2017-09')\n",
    "test['first_active_month'] = pd.to_datetime(test['first_active_month']).apply(lambda x: x.strftime('%Y-%m'))   "
   ]
  },
  {
   "cell_type": "code",
   "execution_count": 4,
   "metadata": {},
   "outputs": [],
   "source": [
    "train['first_active_month'] = pd.to_datetime(train['first_active_month']).apply(lambda x: x.strftime('%Y-%m'))\n",
    "test['first_active_month'] = test['first_active_month'].fillna('2017-09')\n",
    "test['first_active_month'] = pd.to_datetime(test['first_active_month']).apply(lambda x: x.strftime('%Y-%m')) "
   ]
  },
  {
   "cell_type": "code",
   "execution_count": 5,
   "metadata": {},
   "outputs": [],
   "source": [
    "c_his = his_trans.groupby(\"card_id\")\n",
    "c_his = c_his[\"purchase_amount\"].agg(['size', 'sum']).reset_index()\n",
    "c_his.columns = [\"card_id\",\"purchase_amount_size\", \"purchase_amount_sum\"]\n",
    "train = pd.merge(train, c_his, on=\"card_id\", how=\"left\")\n",
    "test = pd.merge(test, c_his, on = \"card_id\", how = \"left\")"
   ]
  },
  {
   "cell_type": "code",
   "execution_count": 6,
   "metadata": {},
   "outputs": [],
   "source": [
    "his_d = pd.get_dummies(his_trans, columns = ['category_1'], drop_first=True)"
   ]
  },
  {
   "cell_type": "code",
   "execution_count": 7,
   "metadata": {},
   "outputs": [],
   "source": [
    "c_his = his_d.groupby('card_id')\n",
    "c_his = c_his['category_1_Y'].size().reset_index()\n",
    "c_his.columns = ['card_id', 'category_1_y_size']\n",
    "train = pd.merge(train, c_his, on = 'card_id', how = 'left')\n",
    "test = pd.merge(test, c_his, on = 'card_id', how = 'left')"
   ]
  },
  {
   "cell_type": "code",
   "execution_count": 8,
   "metadata": {},
   "outputs": [],
   "source": [
    "c_his = his_trans.groupby('card_id')\n",
    "c_his = c_his['merchant_id'].nunique().reset_index()\n",
    "c_his.columns = ['card_id', 'merchant_id_nunique']\n",
    "train = pd.merge(train, c_his, on = 'card_id', how = 'left')\n",
    "test = pd.merge(test, c_his, on = 'card_id', how = 'left')"
   ]
  },
  {
   "cell_type": "code",
   "execution_count": 9,
   "metadata": {},
   "outputs": [],
   "source": [
    "c_his = his_trans.groupby(\"card_id\")\n",
    "c_his = c_his[\"month_lag\"].max().reset_index()\n",
    "c_his.columns = [\"card_id\",\"month_lag_recent\"]\n",
    "train = pd.merge(train, c_his, on=\"card_id\", how=\"left\")"
   ]
  },
  {
   "cell_type": "code",
   "execution_count": 10,
   "metadata": {},
   "outputs": [],
   "source": [
    "from datetime import datetime, timedelta"
   ]
  },
  {
   "cell_type": "code",
   "execution_count": 11,
   "metadata": {},
   "outputs": [],
   "source": [
    "his_trans['month_lag_month'] = pd.to_datetime(his_trans['purchase_date']).apply(lambda x: x.strftime('%Y-%m'))"
   ]
  },
  {
   "cell_type": "code",
   "execution_count": 12,
   "metadata": {},
   "outputs": [],
   "source": [
    "c_his = his_trans.groupby(\"card_id\")\n",
    "c_his = c_his[\"month_lag_month\"].max().reset_index()\n",
    "c_his.columns = [\"card_id\",\"month_lag_month_recent\"]\n",
    "train = pd.merge(train, c_his, on=\"card_id\", how=\"left\")\n",
    "test = pd.merge(test, c_his, on = 'card_id', how = 'left')"
   ]
  },
  {
   "cell_type": "code",
   "execution_count": 13,
   "metadata": {},
   "outputs": [],
   "source": [
    "train['purchase_period'] = pd.to_datetime(train['month_lag_month_recent'])-pd.to_datetime(train['first_active_month'])\n",
    "test['purchase_period'] = pd.to_datetime(test['month_lag_month_recent'])-pd.to_datetime(test['first_active_month'])"
   ]
  },
  {
   "cell_type": "code",
   "execution_count": 14,
   "metadata": {},
   "outputs": [],
   "source": [
    "train.purchase_period = train['purchase_period'].dt.days\n",
    "test.purchase_period = test['purchase_period'].dt.days"
   ]
  },
  {
   "cell_type": "code",
   "execution_count": 15,
   "metadata": {},
   "outputs": [],
   "source": [
    "colnames = ['feature_1', 'feature_2', 'feature_3', 'purchase_amount_size', 'purchase_amount_sum'\n",
    "            , 'merchant_id_nunique', 'purchase_period']\n",
    "\n",
    "target = train['target']\n",
    "x = train[colnames]\n",
    "\n",
    "X_train, X_test, Y_train, Y_test = train_test_split(x, target, test_size=0.2)"
   ]
  },
  {
   "cell_type": "code",
   "execution_count": 28,
   "metadata": {},
   "outputs": [
    {
     "data": {
      "text/plain": [
       "feature_1                 int64\n",
       "feature_2                 int64\n",
       "feature_3                 int64\n",
       "purchase_amount_size      int64\n",
       "purchase_amount_sum     float64\n",
       "merchant_id_nunique       int64\n",
       "purchase_period           int64\n",
       "dtype: object"
      ]
     },
     "execution_count": 28,
     "metadata": {},
     "output_type": "execute_result"
    }
   ],
   "source": [
    "X_test.dtypes"
   ]
  },
  {
   "cell_type": "code",
   "execution_count": 65,
   "metadata": {},
   "outputs": [],
   "source": [
    "import xgboost as xgb\n",
    "# read in data\n",
    "dtrain = xgb.DMatrix(X_train, label = Y_train)\n",
    "dtest = xgb.DMatrix(X_test, label = Y_test)\n",
    "# specify parameters via map\n",
    "param = {'max_depth':10, 'eta':1, 'silent':1, 'objective':'reg:linear' }\n",
    "param['eval_metric'] = 'mae'\n",
    "num_round = 5\n",
    "bst = xgb.train(param, dtrain, num_round)\n",
    "# make prediction\n",
    "#preds = bst.predict(test[colnames])"
   ]
  },
  {
   "cell_type": "code",
   "execution_count": 66,
   "metadata": {},
   "outputs": [],
   "source": [
    "preds = bst.predict(xgb.DMatrix(test[colnames]))"
   ]
  },
  {
   "cell_type": "code",
   "execution_count": 67,
   "metadata": {},
   "outputs": [],
   "source": [
    "pred = pd.DataFrame(preds)"
   ]
  },
  {
   "cell_type": "code",
   "execution_count": 68,
   "metadata": {},
   "outputs": [
    {
     "data": {
      "text/html": [
       "<div>\n",
       "<style scoped>\n",
       "    .dataframe tbody tr th:only-of-type {\n",
       "        vertical-align: middle;\n",
       "    }\n",
       "\n",
       "    .dataframe tbody tr th {\n",
       "        vertical-align: top;\n",
       "    }\n",
       "\n",
       "    .dataframe thead th {\n",
       "        text-align: right;\n",
       "    }\n",
       "</style>\n",
       "<table border=\"1\" class=\"dataframe\">\n",
       "  <thead>\n",
       "    <tr style=\"text-align: right;\">\n",
       "      <th></th>\n",
       "      <th>card_id</th>\n",
       "      <th>target</th>\n",
       "    </tr>\n",
       "  </thead>\n",
       "  <tbody>\n",
       "    <tr>\n",
       "      <th>0</th>\n",
       "      <td>C_ID_0ab67a22ab</td>\n",
       "      <td>-1.406513</td>\n",
       "    </tr>\n",
       "    <tr>\n",
       "      <th>1</th>\n",
       "      <td>C_ID_130fd0cbdd</td>\n",
       "      <td>2.269229</td>\n",
       "    </tr>\n",
       "    <tr>\n",
       "      <th>2</th>\n",
       "      <td>C_ID_b709037bc5</td>\n",
       "      <td>0.273058</td>\n",
       "    </tr>\n",
       "    <tr>\n",
       "      <th>3</th>\n",
       "      <td>C_ID_d27d835a9f</td>\n",
       "      <td>-0.176821</td>\n",
       "    </tr>\n",
       "    <tr>\n",
       "      <th>4</th>\n",
       "      <td>C_ID_2b5e3df5c2</td>\n",
       "      <td>-0.995465</td>\n",
       "    </tr>\n",
       "  </tbody>\n",
       "</table>\n",
       "</div>"
      ],
      "text/plain": [
       "           card_id    target\n",
       "0  C_ID_0ab67a22ab -1.406513\n",
       "1  C_ID_130fd0cbdd  2.269229\n",
       "2  C_ID_b709037bc5  0.273058\n",
       "3  C_ID_d27d835a9f -0.176821\n",
       "4  C_ID_2b5e3df5c2 -0.995465"
      ]
     },
     "execution_count": 68,
     "metadata": {},
     "output_type": "execute_result"
    }
   ],
   "source": [
    "xgb_submission.head()"
   ]
  },
  {
   "cell_type": "code",
   "execution_count": 69,
   "metadata": {},
   "outputs": [],
   "source": [
    "xgb_submission = test.join(pred, how = 'outer')\n",
    "xgb_submission = xgb_submission[['card_id', 0]]\n",
    "xgb_submission.columns = ['card_id', 'target']\n"
   ]
  },
  {
   "cell_type": "code",
   "execution_count": 70,
   "metadata": {},
   "outputs": [],
   "source": [
    "xgb_submission.to_csv('/home/jordan/Data/ELo/elo-merchant-category-recommendation/xgb_submission', sep = ',', index = False)"
   ]
  },
  {
   "cell_type": "code",
   "execution_count": null,
   "metadata": {},
   "outputs": [],
   "source": []
  }
 ],
 "metadata": {
  "kernelspec": {
   "display_name": "Python 3",
   "language": "python",
   "name": "python3"
  },
  "language_info": {
   "codemirror_mode": {
    "name": "ipython",
    "version": 3
   },
   "file_extension": ".py",
   "mimetype": "text/x-python",
   "name": "python",
   "nbconvert_exporter": "python",
   "pygments_lexer": "ipython3",
   "version": "3.7.3"
  },
  "toc": {
   "base_numbering": 1,
   "nav_menu": {},
   "number_sections": true,
   "sideBar": true,
   "skip_h1_title": false,
   "title_cell": "Table of Contents",
   "title_sidebar": "Contents",
   "toc_cell": false,
   "toc_position": {},
   "toc_section_display": true,
   "toc_window_display": false
  }
 },
 "nbformat": 4,
 "nbformat_minor": 2
}
